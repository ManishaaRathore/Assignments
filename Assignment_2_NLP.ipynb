{
 "cells": [
  {
   "cell_type": "markdown",
   "metadata": {},
   "source": [
    "<a>1. What are Corpora?</a>\n",
    "\n",
    "A corpus is a collection of linguistic data. Corpora is plural used for corpus."
   ]
  },
  {
   "cell_type": "markdown",
   "metadata": {},
   "source": [
    "<a>2. What are Tokens?</a>\n",
    "\n",
    "* Image result for what are tokens nlp\n",
    "* It can be either words, characters, or subwords."
   ]
  },
  {
   "cell_type": "markdown",
   "metadata": {},
   "source": [
    "<a>3. What are Unigrams, Bigrams, Trigrams?</a>\n",
    "\n",
    "* unigrams -- one word\n",
    "* bigrams -- two adjacent words\n",
    "* trigrams-- three adjacent words"
   ]
  },
  {
   "cell_type": "markdown",
   "metadata": {},
   "source": [
    "<a>4. How to generate n-grams from text?</a>\n",
    "\n",
    "To generate n-grams :\n",
    "\n"
   ]
  },
  {
   "cell_type": "code",
   "execution_count": 4,
   "metadata": {},
   "outputs": [
    {
     "name": "stdout",
     "output_type": "stream",
     "text": [
      "('I', 'am', 'studing')\n",
      "('am', 'studing', 'in')\n",
      "('studing', 'in', 'iNeuron')\n",
      "('in', 'iNeuron', 'since')\n",
      "('iNeuron', 'since', 'May')\n"
     ]
    }
   ],
   "source": [
    "import nltk\n",
    "from nltk.util import ngrams\n",
    " \n",
    "samplText='I am studing in iNeuron since May'\n",
    "NGRAMS=ngrams(sequence=nltk.word_tokenize(samplText), n=3)\n",
    "for grams in NGRAMS:\n",
    "    print(grams)"
   ]
  },
  {
   "cell_type": "markdown",
   "metadata": {},
   "source": [
    "<a>5. Explain Lemmatization</a>\n",
    "\n",
    "* Lemmatization is the process of converting the words of a sentence to its dictionary form.\n",
    "\n",
    "* Lemmatization resembles stemming yet it carries context to the words. So, it joins words with similar meaning to\n",
    "single word.\n"
   ]
  },
  {
   "cell_type": "markdown",
   "metadata": {},
   "source": [
    "<a>6. Explain Stemming</a>\n",
    "\n",
    "* Stemming is a natural language processing technique that lowers inflection in words to their root forms\n",
    "* It alludes to diminishing a word to its root structure.\n"
   ]
  },
  {
   "cell_type": "markdown",
   "metadata": {},
   "source": [
    "<a>7. Explain Part-of-speech (POS) tagging</a>\n",
    "\n",
    "Part-of-speech (POS) tagging is a popular Natural Language Processing process which refers to categorizing words in a text (corpus) in correspondence with a particular part of speech, depending on the definition of the word and its context."
   ]
  },
  {
   "cell_type": "markdown",
   "metadata": {},
   "source": [
    "<a>8. Explain Chunking or shallow parsing</a>\n",
    "\n",
    "Shallow parsing is an analysis of a sentence which first identifies constituent parts of sentences and then links them to higher order units that have discrete grammatical meanings."
   ]
  },
  {
   "cell_type": "markdown",
   "metadata": {},
   "source": [
    "<a>9. Explain Noun Phrase (NP) chunking</a>\n",
    "\n",
    "Noun phrase chunking deals with extracting the noun phrases from a sentence."
   ]
  },
  {
   "cell_type": "markdown",
   "metadata": {},
   "source": [
    "<a>10. Explain Named Entity Recognition</a>\n",
    "\n",
    "Named Entity Recognition is the method of detecting the named entities such as person names, location names, company names, etc from the text. "
   ]
  },
  {
   "cell_type": "code",
   "execution_count": null,
   "metadata": {},
   "outputs": [],
   "source": []
  }
 ],
 "metadata": {
  "kernelspec": {
   "display_name": "Python 3",
   "language": "python",
   "name": "python3"
  },
  "language_info": {
   "codemirror_mode": {
    "name": "ipython",
    "version": 3
   },
   "file_extension": ".py",
   "mimetype": "text/x-python",
   "name": "python",
   "nbconvert_exporter": "python",
   "pygments_lexer": "ipython3",
   "version": "3.7.6"
  }
 },
 "nbformat": 4,
 "nbformat_minor": 4
}
