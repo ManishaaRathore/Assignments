{
 "cells": [
  {
   "cell_type": "markdown",
   "metadata": {},
   "source": [
    "<b>1. What is the relationship between def statements and lambda expressions ?</b>\n",
    "\n",
    "A lambda expression is an expression which evaluates to a function object, while a def statement has no value, and creates a function object and binds it to a name.\n",
    "\n",
    "<b>2. What is the benefit of lambda?</b>\n",
    "\n",
    "* Execution time of the program is fast.\n",
    "* No need of using the return statement\n",
    "\n",
    "<b>3. Compare and contrast map, filter, and reduce.</b>\n",
    "\n",
    "All three functions take function to apply on iterator and iterator as input.\n",
    "\n",
    "* MAP function to each element of iterator and collects result.\n",
    "\n",
    "* FILTER applies function to each element of iterator and collect those elements for which function returns true. For this function need to return boolean value.\n",
    "\n",
    "* REDUCE applies rolling computation to sequential pair of elements in iterator. Initially it takes two elements from iterator in sequence, applies function, collect result, then take next element in sequence from iterator, applies function and repeat this untill list has single value.\n",
    "\n",
    "<b>4. What are function annotations, and how are they used?</b>\n",
    "Function annotations provide a way of associating various parts of a function with arbitrary python expressions at compile time.\n",
    "\n",
    "<b>5. What are recursive functions, and how are they used?</b>\n",
    "A recursive function is a function in code that refers to itself for execution. Recursive functions can be simple or elaborate.\n",
    "\n",
    "<b> 6. What are some general design guidelines for coding functions?</b>\n",
    "\n",
    "* Safe: It can be used without causing harm.\n",
    "* Secure: It can't be hacked.\n",
    "* Reliable: It functions as it should, every time.\n",
    "* Testable: It can be tested at the code level.\n",
    "* Maintainable: It can be maintained, even as your codebase grows.\n",
    "* Portable: It works the same in every environment.\n",
    "\n",
    "<b>7. Name three or more ways that functions can communicate results to a caller.</b>\n",
    "\n",
    "* Functions can send back results with return statements, by changing passed-in mutable arguments, and by setting global variables.\n",
    "* Globals are generally frowned upon (except for very special cases, like multithreaded programs) because they can make code more difficult to understand and use. \n",
    "* Return statements are usually best, but changing mutables is fine (and even useful), if expected. \n",
    "* Functions may also communicate results with system devices such as files and sockets, but these are beyond our scope here."
   ]
  },
  {
   "cell_type": "code",
   "execution_count": null,
   "metadata": {},
   "outputs": [],
   "source": []
  }
 ],
 "metadata": {
  "kernelspec": {
   "display_name": "Python 3",
   "language": "python",
   "name": "python3"
  },
  "language_info": {
   "codemirror_mode": {
    "name": "ipython",
    "version": 3
   },
   "file_extension": ".py",
   "mimetype": "text/x-python",
   "name": "python",
   "nbconvert_exporter": "python",
   "pygments_lexer": "ipython3",
   "version": "3.7.6"
  }
 },
 "nbformat": 4,
 "nbformat_minor": 4
}
