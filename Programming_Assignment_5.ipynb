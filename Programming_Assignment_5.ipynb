{
 "cells": [
  {
   "cell_type": "markdown",
   "metadata": {},
   "source": [
    "<b>.1. Write a Python Program to Find LCM?</b>"
   ]
  },
  {
   "cell_type": "code",
   "execution_count": 1,
   "metadata": {},
   "outputs": [
    {
     "name": "stdout",
     "output_type": "stream",
     "text": [
      "Enter first number :10\n",
      "Enter second number :40\n",
      "Enter third number :50\n",
      "LCM : 200\n"
     ]
    }
   ],
   "source": [
    "def evaluate_LCM ( n1, n2,n3):\n",
    "    if n1>n2 and n1> n3:\n",
    "        greater = n1\n",
    "    if n2>n1 and n2>n3:\n",
    "        greater = n2    \n",
    "    else:\n",
    "        greater = n3\n",
    "    temp = greater\n",
    "        \n",
    "    while True:\n",
    "        if greater%n1==0 and greater%n2==0 and greater%n3==0:\n",
    "            print(\"LCM :\",greater)\n",
    "            break\n",
    "        else:\n",
    "            greater=greater+temp\n",
    "        \n",
    "                \n",
    "n1= int(input(\"Enter first number :\"))\n",
    "n2= int(input(\"Enter second number :\"))\n",
    "n3= int(input(\"Enter third number :\"))\n",
    "\n",
    "evaluate_LCM ( n1, n2, n3)"
   ]
  },
  {
   "cell_type": "markdown",
   "metadata": {},
   "source": [
    "<b>2. Write a Python Program to Find HCF?</b>"
   ]
  },
  {
   "cell_type": "code",
   "execution_count": 2,
   "metadata": {},
   "outputs": [
    {
     "name": "stdout",
     "output_type": "stream",
     "text": [
      "Enter first number :126\n",
      "Enter second number :162\n",
      "Enter third number :180\n",
      "HCF: 18\n"
     ]
    }
   ],
   "source": [
    "def evaluate_HCF ( n1, n2,n3):\n",
    "    if n1>n2 and n3> n2:\n",
    "        smaller = n2\n",
    "    if n2>n1 and n3>n1:\n",
    "        smaller = n1    \n",
    "    else:\n",
    "        smaller = n3\n",
    "        \n",
    "    for i in range(1, smaller+1):\n",
    "        if((n1 % i == 0) and (n2 % i == 0) and (n3 % i == 0)):\n",
    "            hcf = i \n",
    "    return hcf\n",
    "        \n",
    "                \n",
    "n1= int(input(\"Enter first number :\"))\n",
    "n2= int(input(\"Enter second number :\"))\n",
    "n3= int(input(\"Enter third number :\"))\n",
    "\n",
    "print(\"HCF:\", evaluate_HCF( n1, n2, n3))"
   ]
  },
  {
   "cell_type": "markdown",
   "metadata": {},
   "source": [
    "<b>3. Write a Python Program to Convert Decimal to Binary, Octal and Hexadecimal?</b>"
   ]
  },
  {
   "cell_type": "code",
   "execution_count": 3,
   "metadata": {},
   "outputs": [
    {
     "name": "stdout",
     "output_type": "stream",
     "text": [
      "The decimal value of 334 is:\n",
      "0b101001110 in binary.\n",
      "0o516 in octal.\n",
      "0x14e in hexadecimal.\n"
     ]
    }
   ],
   "source": [
    "d = 334\n",
    "\n",
    "print(\"The decimal value of\", d, \"is:\")\n",
    "print(bin(d), \"in binary.\")\n",
    "print(oct(d), \"in octal.\")\n",
    "print(hex(d), \"in hexadecimal.\")\n"
   ]
  },
  {
   "cell_type": "markdown",
   "metadata": {},
   "source": [
    "<b>4. Write a Python Program To Find ASCII value of a character?</b>"
   ]
  },
  {
   "cell_type": "code",
   "execution_count": 10,
   "metadata": {},
   "outputs": [
    {
     "name": "stdout",
     "output_type": "stream",
     "text": [
      "Enter character: /\n",
      " ASCII value of '/' is 47\n"
     ]
    }
   ],
   "source": [
    "chr = input(\"Enter character: \")\n",
    "print(\" ASCII value of '\" + chr + \"' is\", ord(chr))"
   ]
  },
  {
   "cell_type": "markdown",
   "metadata": {},
   "source": [
    "<b>5. Write a Python Program to Make a Simple Calculator with 4 basic mathematical operations?</b5>"
   ]
  },
  {
   "cell_type": "code",
   "execution_count": 5,
   "metadata": {},
   "outputs": [],
   "source": [
    "# Python program for simple calculator\n",
    " \n",
    "# Function to add two numbers\n",
    "def add(a, b):\n",
    "    return a + b\n",
    " \n",
    "# Function to subtract two numbers\n",
    "def subtract(a, b):\n",
    "    return a - b\n",
    " \n",
    "# Function to multiply two numbers\n",
    "def multiply(a, b):\n",
    "    return a * b\n",
    " \n",
    "# Function to divide two numbers\n",
    "def divide(a, b):\n",
    "    return a / b\n"
   ]
  },
  {
   "cell_type": "code",
   "execution_count": 7,
   "metadata": {},
   "outputs": [
    {
     "name": "stdout",
     "output_type": "stream",
     "text": [
      "Please select operation -\n",
      "1. Add\n",
      "2. Subtract\n",
      "3. Multiply\n",
      "4. Divide\n",
      "4\n",
      "Enter first number: 5\n",
      "Enter second number: 8\n",
      "5 / 8 = 0.625\n"
     ]
    }
   ],
   "source": [
    " # Take input from the user\n",
    "select = int(input(\"Please select operation -\\n\" \\\n",
    "        \"1. Add\\n\" \\\n",
    "        \"2. Subtract\\n\" \\\n",
    "        \"3. Multiply\\n\" \\\n",
    "        \"4. Divide\\n\"))\n",
    "\n",
    " \n",
    "try:\n",
    "    number_1 = int(input(\"Enter first number: \"))\n",
    "    number_2 = int(input(\"Enter second number: \"))\n",
    "    if select == 1:\n",
    "        print(number_1, \"+\", number_2, \"=\",add(number_1, number_2))\n",
    "    \n",
    "    elif select == 2:\n",
    "        print(number_1, \"-\", number_2, \"=\",subtract(number_1, number_2))\n",
    "    elif select == 3:\n",
    "        print(number_1, \"*\", number_2, \"=\",multiply(number_1, number_2))\n",
    "    elif select == 4:\n",
    "        print(number_1, \"/\", number_2, \"=\",divide(number_1, number_2))\n",
    "    else:\n",
    "        print(\"Invalid input\")\n",
    "except Exception as e:\n",
    "    print(\"Infinity\",\"(\",e,\")\")\n",
    "    "
   ]
  },
  {
   "cell_type": "code",
   "execution_count": null,
   "metadata": {},
   "outputs": [],
   "source": []
  }
 ],
 "metadata": {
  "kernelspec": {
   "display_name": "Python 3",
   "language": "python",
   "name": "python3"
  },
  "language_info": {
   "codemirror_mode": {
    "name": "ipython",
    "version": 3
   },
   "file_extension": ".py",
   "mimetype": "text/x-python",
   "name": "python",
   "nbconvert_exporter": "python",
   "pygments_lexer": "ipython3",
   "version": "3.7.6"
  }
 },
 "nbformat": 4,
 "nbformat_minor": 4
}
