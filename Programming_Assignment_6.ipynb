{
 "cells": [
  {
   "cell_type": "markdown",
   "metadata": {},
   "source": [
    "<b>1.Write a Python Program to Display Fibonacci Sequence Using Recursion?</b>"
   ]
  },
  {
   "cell_type": "code",
   "execution_count": 1,
   "metadata": {},
   "outputs": [
    {
     "name": "stdout",
     "output_type": "stream",
     "text": [
      "Enter number of terms5\n",
      "Fibonacci sequence:\n",
      "0\n",
      "1\n",
      "1\n",
      "2\n",
      "3\n"
     ]
    }
   ],
   "source": [
    "def gen_fib(n):\n",
    "    if n <= 1:\n",
    "        return n\n",
    "    else:\n",
    "        return(gen_fib(n-1) + gen_fib(n-2))\n",
    "\n",
    "nterms = int(input(\"Enter number of terms\"))\n",
    "\n",
    "if nterms <= 0:\n",
    "    print(\"Plese enter a positive integer\")\n",
    "else:\n",
    "    print(\"Fibonacci sequence:\")\n",
    "    for i in range(nterms):\n",
    "        print(gen_fib(i))"
   ]
  },
  {
   "cell_type": "markdown",
   "metadata": {},
   "source": [
    "<b>2. Write a Python Program to Find Factorial of Number Using Recursion?</b>"
   ]
  },
  {
   "cell_type": "code",
   "execution_count": 2,
   "metadata": {},
   "outputs": [
    {
     "name": "stdout",
     "output_type": "stream",
     "text": [
      "Enter a number: 5\n",
      "5 ! =  120\n"
     ]
    }
   ],
   "source": [
    "def factorial(n):\n",
    "    try:\n",
    "        if n == 1 or n==0:\n",
    "            return 1\n",
    "        else:\n",
    "            return n*factorial(n-1)\n",
    "            print(n,\"! = \", factorial(n))\n",
    "            \n",
    "    except Exception as e:\n",
    "        print(\"Error: \",e) \n",
    "n=int(input(\"Enter a number: \"))\n",
    "print(n,\"! = \", factorial(n))"
   ]
  },
  {
   "cell_type": "code",
   "execution_count": 3,
   "metadata": {},
   "outputs": [
    {
     "data": {
      "text/plain": [
       "1"
      ]
     },
     "execution_count": 3,
     "metadata": {},
     "output_type": "execute_result"
    }
   ],
   "source": [
    "factorial(1)"
   ]
  },
  {
   "cell_type": "markdown",
   "metadata": {},
   "source": [
    "<b>3. Write a Python Program to calculate your Body Mass Index?</b>"
   ]
  },
  {
   "cell_type": "code",
   "execution_count": 3,
   "metadata": {},
   "outputs": [
    {
     "name": "stdout",
     "output_type": "stream",
     "text": [
      "Enter height in meters: 1.5\n",
      "Enter weight in kg: 50\n",
      "BMI :  ('BMI =', 22.22222222222222, \"i.e. person's weight is normal\")\n"
     ]
    }
   ],
   "source": [
    "def BMI(height, weight):\n",
    "    try:\n",
    "        bmi = weight/(height**2)\n",
    "        if bmi<18.5:return('BMI =',bmi,'i.e. person is underweight' )\n",
    "        elif bmi>=18.5 and bmi<25:return(\"BMI =\",bmi,\"i.e. person's weight is normal\" )\n",
    "        else: return('BMI =',bmi,'i.e. person is overweight')\n",
    "    except Exception as e:\n",
    "        print(\"Error:\", e)\n",
    "height=float(input(\"Enter height in meters: \"))\n",
    "\n",
    "\n",
    "weight=float(input(\"Enter weight in kg: \"))\n",
    "\n",
    "print(\"BMI : \", BMI(height, weight))\n",
    "\n"
   ]
  },
  {
   "cell_type": "markdown",
   "metadata": {},
   "source": [
    "<b>4.Write a Python Program to calculate the natural logarithm of any number?</b>"
   ]
  },
  {
   "cell_type": "code",
   "execution_count": 1,
   "metadata": {},
   "outputs": [
    {
     "name": "stdout",
     "output_type": "stream",
     "text": [
      "Enter a number :2\n",
      "ln(2.00)=  0.6931471805599453\n"
     ]
    }
   ],
   "source": [
    "import numpy\n",
    "\n",
    "n =float(input('Enter a number :'))\n",
    "def ln(n): \n",
    "    \n",
    "    try:\n",
    "        print(\"ln({0:.2f})= \".format(n),numpy.log(n))\n",
    "    except Exception as e:\n",
    "        print('Error :',e)\n",
    "    \n",
    "ln(n)"
   ]
  },
  {
   "cell_type": "markdown",
   "metadata": {},
   "source": [
    "<b>5. Write a Python Program for cube sum of first n natural numbers?</b>"
   ]
  },
  {
   "cell_type": "code",
   "execution_count": 2,
   "metadata": {},
   "outputs": [
    {
     "name": "stdout",
     "output_type": "stream",
     "text": [
      "Enter a number :7\n",
      "Sum of cubes of first 7 numbers is 784\n"
     ]
    }
   ],
   "source": [
    "n =int(input('Enter a number :'))\n",
    "\n",
    "def sum_of_cubes(n):\n",
    "    try:\n",
    "        sum=0\n",
    "        for i in range(0,n+1) :\n",
    "            sum = sum+i**3\n",
    "            \n",
    "        print(\"Sum of cubes of first\", n,\"numbers is\" , sum)            \n",
    "            \n",
    "    except Exception as e:\n",
    "        print(\"Error\", e)\n",
    "sum_of_cubes(n)    "
   ]
  },
  {
   "cell_type": "code",
   "execution_count": null,
   "metadata": {},
   "outputs": [],
   "source": []
  }
 ],
 "metadata": {
  "kernelspec": {
   "display_name": "Python 3",
   "language": "python",
   "name": "python3"
  },
  "language_info": {
   "codemirror_mode": {
    "name": "ipython",
    "version": 3
   },
   "file_extension": ".py",
   "mimetype": "text/x-python",
   "name": "python",
   "nbconvert_exporter": "python",
   "pygments_lexer": "ipython3",
   "version": "3.7.6"
  }
 },
 "nbformat": 4,
 "nbformat_minor": 4
}
