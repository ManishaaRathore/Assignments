{
 "cells": [
  {
   "cell_type": "markdown",
   "metadata": {},
   "source": [
    "<strong>1. In the below elements which of them are values or an expression? eg:- values can be\n",
    "integer or string and expressions will be mathematical operators.</strong>\n",
    "\n",
    "*\n",
    "\n",
    "\n",
    "hello\n",
    "\n",
    "\n",
    "-87.8\n",
    "\n",
    "-\n",
    "\n",
    "/\n",
    "\n",
    "+\n",
    "\n",
    "6"
   ]
  },
  {
   "cell_type": "markdown",
   "metadata": {},
   "source": [
    "<strong> Answer </strong>'*' - <a> Expression </a>\n",
    "\n",
    "hello - <a> Value </a>\n",
    "\n",
    "\n",
    "-87.8 -  <a> Value </a>\n",
    "\n",
    "'-'  -<a> Expression </a>\n",
    "\n",
    "/  -<a> Expression </a>\n",
    "\n",
    "'+'  -<a> Expression </a>\n",
    "\n",
    "6 -  <a> Value </a>"
   ]
  },
  {
   "cell_type": "markdown",
   "metadata": {},
   "source": [
    "<strong>2. What is the difference between string and variable?</strong>"
   ]
  },
  {
   "cell_type": "markdown",
   "metadata": {},
   "source": [
    "<strong> Answer </strong> <a>String:</a> A string is a data type such as an integer and floating point unit, but is used to represent text rather than numbers. It is written in quotes such as \"iNeuron\", '32'\n",
    "\n",
    "<a>Variable:</a> It works as container to store data ."
   ]
  },
  {
   "cell_type": "markdown",
   "metadata": {},
   "source": [
    "<strong>3. Describe three different data types.</strong>"
   ]
  },
  {
   "cell_type": "markdown",
   "metadata": {},
   "source": [
    "<strong> Answer </strong> <a>List</a>: It is a collection of ordered data. They are mutable and are declared with square braces.\n",
    "\n",
    "<a>Set</a>: It is an unordered collection of data with no duplicate elements. They are mutable.\n",
    "\n",
    "<a>Dict</a>: It is are used to store unordered data values in key:value pairs. They are mutable and keys do not allow duplicates."
   ]
  },
  {
   "cell_type": "markdown",
   "metadata": {},
   "source": [
    "<strong>4. What is an expression made up of? What do all expressions do?</strong>"
   ]
  },
  {
   "cell_type": "markdown",
   "metadata": {},
   "source": [
    "<strong> Answer </strong> An <u>expression</u> is a combination made up of operations and operands ( variables or constants. It needs to be evaluated."
   ]
  },
  {
   "cell_type": "markdown",
   "metadata": {},
   "source": [
    "<b>5. This assignment statements, like spam = 10. What is the difference between an expression and a statement?</b>"
   ]
  },
  {
   "cell_type": "markdown",
   "metadata": {},
   "source": [
    "<b>Answer</b> An expression is a combination of variables, operations and constants that yields a result value whereas a statement is just a command like print."
   ]
  },
  {
   "cell_type": "markdown",
   "metadata": {},
   "source": [
    "<b>6. After running the following code, what does the variable bacon contain?</b>\n",
    "    \n",
    "bacon = 22\n",
    "\n",
    "bacon + 1"
   ]
  },
  {
   "cell_type": "markdown",
   "metadata": {},
   "source": [
    "<b>Answer</b> Bacon will contain same value (22), there will be no change in it."
   ]
  },
  {
   "cell_type": "markdown",
   "metadata": {},
   "source": [
    "<b>7.What should the values of the following two terms be?</b>\n",
    "\n",
    "'spam' + 'spamspam'\n",
    "\n",
    "'spam' * 3"
   ]
  },
  {
   "cell_type": "code",
   "execution_count": 9,
   "metadata": {},
   "outputs": [
    {
     "data": {
      "text/plain": [
       "'spamspamspam'"
      ]
     },
     "execution_count": 9,
     "metadata": {},
     "output_type": "execute_result"
    }
   ],
   "source": [
    "'spam'+'spamspam'"
   ]
  },
  {
   "cell_type": "code",
   "execution_count": 10,
   "metadata": {},
   "outputs": [
    {
     "data": {
      "text/plain": [
       "'spamspamspam'"
      ]
     },
     "execution_count": 10,
     "metadata": {},
     "output_type": "execute_result"
    }
   ],
   "source": [
    "'spam'*3"
   ]
  },
  {
   "cell_type": "markdown",
   "metadata": {},
   "source": [
    "<b></b> Both have same result i.e. <a>'spamspamspam'</a>."
   ]
  },
  {
   "cell_type": "markdown",
   "metadata": {},
   "source": [
    "<b>8. Why is eggs a valid variable name while 100 is invalid?</b>"
   ]
  },
  {
   "cell_type": "markdown",
   "metadata": {},
   "source": [
    "<b>Answer:</b> Since variable is a symbol (generally a letter or combination of letters) containing an unknown numerical value. Thus 'eggs' being a combination fo letters is valid while '100' being numeric is invalid name for variable."
   ]
  },
  {
   "cell_type": "markdown",
   "metadata": {},
   "source": [
    "<b>9. What three functions can be used to get the integer, floating-point number, or string version of a value?</b>"
   ]
  },
  {
   "cell_type": "markdown",
   "metadata": {},
   "source": [
    "<b>Answer:</b>  int(), float(), and str()"
   ]
  },
  {
   "cell_type": "markdown",
   "metadata": {},
   "source": [
    "<b>10. Why does this expression cause an error? How can you fix it?</b>\n",
    "\n",
    "'I have eaten' + 99 + 'burritos' "
   ]
  },
  {
   "cell_type": "markdown",
   "metadata": {},
   "source": [
    "<b>Answer</b> We cannot concatinate two different datatypes. Since 99 is an integer whereas other two are strings , if we have to concatenate it we need to use \"99\" instead of just 99 or use str(99) i.e. Typecasting."
   ]
  },
  {
   "cell_type": "code",
   "execution_count": 14,
   "metadata": {},
   "outputs": [
    {
     "data": {
      "text/plain": [
       "'I have eaten99burritos'"
      ]
     },
     "execution_count": 14,
     "metadata": {},
     "output_type": "execute_result"
    }
   ],
   "source": [
    "'I have eaten' + \"99\" + 'burritos' "
   ]
  },
  {
   "cell_type": "code",
   "execution_count": 15,
   "metadata": {},
   "outputs": [
    {
     "data": {
      "text/plain": [
       "'I have eaten99burritos'"
      ]
     },
     "execution_count": 15,
     "metadata": {},
     "output_type": "execute_result"
    }
   ],
   "source": [
    "'I have eaten' + str(99) + 'burritos' "
   ]
  },
  {
   "cell_type": "code",
   "execution_count": null,
   "metadata": {},
   "outputs": [],
   "source": []
  }
 ],
 "metadata": {
  "kernelspec": {
   "display_name": "Python 3",
   "language": "python",
   "name": "python3"
  },
  "language_info": {
   "codemirror_mode": {
    "name": "ipython",
    "version": 3
   },
   "file_extension": ".py",
   "mimetype": "text/x-python",
   "name": "python",
   "nbconvert_exporter": "python",
   "pygments_lexer": "ipython3",
   "version": "3.7.6"
  }
 },
 "nbformat": 4,
 "nbformat_minor": 4
}
