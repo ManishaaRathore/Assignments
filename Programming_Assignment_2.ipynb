{
 "cells": [
  {
   "cell_type": "markdown",
   "metadata": {},
   "source": [
    "1. Write a Python program to convert kilometers to miles?"
   ]
  },
  {
   "cell_type": "code",
   "execution_count": 2,
   "metadata": {},
   "outputs": [
    {
     "name": "stdout",
     "output_type": "stream",
     "text": [
      "Enter value in kilometers: 12\n",
      "12.0 km = 7.4564520000000005 miles\n"
     ]
    }
   ],
   "source": [
    "x = float(input(\"Enter value in kilometers: \"))\n",
    "print(x,'km =', x*0.621371,'miles')"
   ]
  },
  {
   "cell_type": "markdown",
   "metadata": {},
   "source": [
    "2. Write a Python program to convert Celsius to Fahrenheit?"
   ]
  },
  {
   "cell_type": "code",
   "execution_count": 4,
   "metadata": {},
   "outputs": [
    {
     "name": "stdout",
     "output_type": "stream",
     "text": [
      "Enter value in degree Celsius: 45\n",
      "45.0 degree Celsius = 113.0 degree Fahrenheit\n"
     ]
    }
   ],
   "source": [
    "C=float(input(\"Enter value in degree Celsius: \"))\n",
    "print(C, 'degree Celsius =', (C* 9/5) + 32 ,'degree Fahrenheit')"
   ]
  },
  {
   "cell_type": "markdown",
   "metadata": {},
   "source": [
    "3. Write a Python program to display calendar?"
   ]
  },
  {
   "cell_type": "code",
   "execution_count": 6,
   "metadata": {},
   "outputs": [
    {
     "name": "stdout",
     "output_type": "stream",
     "text": [
      "Enter year: 1994\n",
      "Enter month: 7\n",
      "     July 1994\n",
      "Mo Tu We Th Fr Sa Su\n",
      "             1  2  3\n",
      " 4  5  6  7  8  9 10\n",
      "11 12 13 14 15 16 17\n",
      "18 19 20 21 22 23 24\n",
      "25 26 27 28 29 30 31\n",
      "\n"
     ]
    }
   ],
   "source": [
    "import calendar\n",
    "\n",
    "y = int(input(\"Enter year: \")) \n",
    "m = int(input(\"Enter month: \"))\n",
    "\n",
    "print(calendar.month(y, m))"
   ]
  },
  {
   "cell_type": "markdown",
   "metadata": {},
   "source": [
    "4. Write a Python program to solve quadratic equation?"
   ]
  },
  {
   "cell_type": "code",
   "execution_count": 10,
   "metadata": {},
   "outputs": [
    {
     "name": "stdout",
     "output_type": "stream",
     "text": [
      "Enter A: 1\n",
      "Enter B: -9\n",
      "Enter C: 14\n",
      "The solutions are 2.0 and 7.0\n"
     ]
    }
   ],
   "source": [
    "# Taking general quadratic equation as Ax^2+Bx+C=0\n",
    "\n",
    "import numpy  \n",
    "A = float(input('Enter A: '))  \n",
    "B = float(input('Enter B: '))  \n",
    "C = float(input('Enter C: '))  \n",
    "  \n",
    "# calculate the discriminant  \n",
    "D = (B**2) - (4*A*C)  \n",
    "  \n",
    "# Evaluating two solutions  \n",
    "sol1 = (-B-numpy.sqrt(D))/(2*A)  \n",
    "sol2 = (-B+numpy.sqrt(D))/(2*A)  \n",
    "print('The solutions are {0} and {1}'.format(sol1,sol2))   "
   ]
  },
  {
   "cell_type": "markdown",
   "metadata": {},
   "source": [
    "5. Write a Python program to swap two variables without temp variable?"
   ]
  },
  {
   "cell_type": "code",
   "execution_count": null,
   "metadata": {},
   "outputs": [],
   "source": [
    "x = 'Goo'\n",
    "y = 7\n",
    " \n",
    "print (\"Before swapping: \")\n",
    "print(\"Value of x : \", x, \" and y : \", y)\n",
    " \n",
    "# code to swap 'x' and 'y'\n",
    "x, y = y, x\n",
    " \n",
    "print (\"After swapping: \")\n",
    "print(\"Value of x : \", x, \" and y : \", y)"
   ]
  }
 ],
 "metadata": {
  "kernelspec": {
   "display_name": "Python 3",
   "language": "python",
   "name": "python3"
  },
  "language_info": {
   "codemirror_mode": {
    "name": "ipython",
    "version": 3
   },
   "file_extension": ".py",
   "mimetype": "text/x-python",
   "name": "python",
   "nbconvert_exporter": "python",
   "pygments_lexer": "ipython3",
   "version": "3.7.6"
  }
 },
 "nbformat": 4,
 "nbformat_minor": 4
}
