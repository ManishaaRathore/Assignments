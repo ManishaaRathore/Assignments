{
 "cells": [
  {
   "cell_type": "markdown",
   "metadata": {},
   "source": [
    "<b>Q1. What is the purpose of Python&#39;s OOP?</b>"
   ]
  },
  {
   "cell_type": "markdown",
   "metadata": {},
   "source": [
    "To implement real-world entities like inheritance, polymorphisms, encapsulation, etc. in the programming."
   ]
  },
  {
   "cell_type": "markdown",
   "metadata": {},
   "source": [
    "<b>Q2. Where does an inheritance search look for an attribute?</b>"
   ]
  },
  {
   "cell_type": "markdown",
   "metadata": {},
   "source": [
    "In Parent class.\n",
    "\n",
    "Parent class is the class being inherited from, also called base class. Child class is the class that inherits from another class, also called derived class."
   ]
  },
  {
   "cell_type": "markdown",
   "metadata": {},
   "source": [
    "<b>Q3. How do you distinguish between a class object and an instance object?</b>"
   ]
  },
  {
   "cell_type": "markdown",
   "metadata": {},
   "source": [
    "Class:\n",
    "* A class is a template for creating objects in program.\n",
    "* A class does not allocate memory space when it is created.\n",
    "\n",
    "Instance:\n",
    "* An instance is a variable which is used to hold memory address of the object."
   ]
  },
  {
   "cell_type": "markdown",
   "metadata": {},
   "source": [
    "Q4. What makes the first argument in a class’s method function special?"
   ]
  },
  {
   "cell_type": "markdown",
   "metadata": {},
   "source": [
    "The first argument of every class method, including <b>init</b>, is always a reference to the current instance of the class."
   ]
  },
  {
   "cell_type": "markdown",
   "metadata": {},
   "source": [
    "<b>Q5. What is the purpose of the __init__ method?</b>"
   ]
  },
  {
   "cell_type": "markdown",
   "metadata": {},
   "source": [
    "The __init__ method lets the class initialize the object's attributes and serves no other purpose."
   ]
  },
  {
   "cell_type": "markdown",
   "metadata": {},
   "source": [
    "<b>Q6. What is the process for creating a class instance?</b>"
   ]
  },
  {
   "cell_type": "markdown",
   "metadata": {},
   "source": [
    "The first method __init__() is a method that is known an initialization method that Python calls when you create a new instance of this class. We declare other class methods like normal functions with the exception that the first argument to each method is self."
   ]
  },
  {
   "cell_type": "markdown",
   "metadata": {},
   "source": [
    "<b>Q7. What is the process for creating a class?</b>"
   ]
  },
  {
   "cell_type": "markdown",
   "metadata": {},
   "source": [
    "* To define a class , we use the class keyword, followed by the class name and a colon. \n",
    "* Inside the class, an __init__ method has to be defined with def. \n",
    "* This is the initializer that you can later use to instantiate objects. \n",
    "* It takes one argument: self, which refers to the object itself. \n",
    "* Inside the method, the pass keyword is used as of now, because Python expects you to type something there. "
   ]
  },
  {
   "cell_type": "markdown",
   "metadata": {},
   "source": [
    "<b>Q8. How would you define the superclasses of a class?</b>"
   ]
  },
  {
   "cell_type": "markdown",
   "metadata": {},
   "source": [
    "The class from which a class inherits is called the superclass. "
   ]
  },
  {
   "cell_type": "code",
   "execution_count": null,
   "metadata": {},
   "outputs": [],
   "source": []
  }
 ],
 "metadata": {
  "kernelspec": {
   "display_name": "Python 3",
   "language": "python",
   "name": "python3"
  },
  "language_info": {
   "codemirror_mode": {
    "name": "ipython",
    "version": 3
   },
   "file_extension": ".py",
   "mimetype": "text/x-python",
   "name": "python",
   "nbconvert_exporter": "python",
   "pygments_lexer": "ipython3",
   "version": "3.7.6"
  }
 },
 "nbformat": 4,
 "nbformat_minor": 4
}
