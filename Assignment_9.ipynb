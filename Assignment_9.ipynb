{
 "cells": [
  {
   "cell_type": "markdown",
   "metadata": {},
   "source": [
    "<b>1. To what does a relative path refer? </b>\n",
    "\n",
    "A relative path refers to a location that is relative to a current directory."
   ]
  },
  {
   "cell_type": "markdown",
   "metadata": {},
   "source": [
    "\n",
    "<b>2. What does an absolute path start with your operating system?</b>\n",
    "\n",
    "An absolute path refers to the complete details needed to locate a file or folder, starting from the root element and ending with the other subdirectories. \n",
    "\n"
   ]
  },
  {
   "cell_type": "markdown",
   "metadata": {},
   "source": [
    "<b>3. What do the functions os.getcwd() and os.chdir() do?</b>\n",
    "\n",
    "* os.getcwd() function allows you to see what your current working directory is.\n",
    "\n",
    "* os.chdir() used to change the current working directory to specified path. \n",
    "\n"
   ]
  },
  {
   "cell_type": "markdown",
   "metadata": {},
   "source": [
    "<b>4. What are the . and .. folders?</b></b>\n",
    "\n",
    "The . folder is the current folder, and .. is the parent folder.\n",
    "\n"
   ]
  },
  {
   "cell_type": "markdown",
   "metadata": {},
   "source": [
    "<b>5.  In C:\\bacon\\eggs\\spam.txt, which part is the dir name, and which part is the base name?</b>\n",
    "    \n",
    "    dir name -- >> dir name\n",
    "    spam.txt  -- >> Base name\n",
    "\n"
   ]
  },
  {
   "cell_type": "markdown",
   "metadata": {},
   "source": [
    "<b>6. What are the three “mode” arguments that can be passed to the open() function?</b>\n",
    "\n",
    "The string 'r' for read mode, 'w' for write mode, and 'a' for append mode\n",
    "\n"
   ]
  },
  {
   "cell_type": "markdown",
   "metadata": {},
   "source": [
    "<b>7. What happens if an existing file is opened in write mode?</b>\n",
    "\n",
    "An existing file opened in write mode is erased and completely overwritten.\n",
    "\n"
   ]
  },
  {
   "cell_type": "markdown",
   "metadata": {},
   "source": [
    "<b>8. How do you tell the difference between read() and readlines()?</b></b>\n",
    "\n",
    "read() --> returns the file's entire contents as a single string value. \n",
    "\n",
    "readlines() --> returns a list of strings, where each string is a line from the file's contents.\n",
    "\n",
    " "
   ]
  },
  {
   "cell_type": "markdown",
   "metadata": {},
   "source": [
    "<b>9. What data structure does a shelf value resemble?</b>\n",
    "\n",
    "A shelf value resembles a dictionary value, it has keys and values, along with keys() and values() methods that work similarly to the dictionary methods of the same names.\n",
    "   "
   ]
  },
  {
   "cell_type": "code",
   "execution_count": null,
   "metadata": {},
   "outputs": [],
   "source": []
  }
 ],
 "metadata": {
  "kernelspec": {
   "display_name": "Python 3",
   "language": "python",
   "name": "python3"
  },
  "language_info": {
   "codemirror_mode": {
    "name": "ipython",
    "version": 3
   },
   "file_extension": ".py",
   "mimetype": "text/x-python",
   "name": "python",
   "nbconvert_exporter": "python",
   "pygments_lexer": "ipython3",
   "version": "3.7.6"
  }
 },
 "nbformat": 4,
 "nbformat_minor": 4
}
